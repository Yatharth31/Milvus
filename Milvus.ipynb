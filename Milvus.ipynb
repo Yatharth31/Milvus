{
 "cells": [
  {
   "cell_type": "markdown",
   "metadata": {},
   "source": [
    "### Connect to Milvus Server"
   ]
  },
  {
   "cell_type": "code",
   "execution_count": 1,
   "metadata": {},
   "outputs": [],
   "source": [
    "from pymilvus import connections\n",
    "connections.connect(\n",
    "  alias=\"default\",\n",
    "  uri=\"http://localhost:19530\",\n",
    ")"
   ]
  },
  {
   "cell_type": "markdown",
   "metadata": {},
   "source": [
    "### Create a Collection"
   ]
  },
  {
   "cell_type": "code",
   "execution_count": 2,
   "metadata": {},
   "outputs": [],
   "source": [
    "from pymilvus import CollectionSchema, FieldSchema, DataType\n",
    "book_id = FieldSchema(\n",
    "  name=\"book_id\",\n",
    "  dtype=DataType.INT64,\n",
    "  is_primary=True,\n",
    ")\n",
    "book_name = FieldSchema(\n",
    "  name=\"book_name\",\n",
    "  dtype=DataType.VARCHAR,\n",
    "  max_length=200,\n",
    "  # The default value will be used if this field is left empty during data inserts or upserts.\n",
    "  # The data type of `default_value` must be the same as that specified in `dtype`.\n",
    "  default_value=\"Unknown\"\n",
    ")\n",
    "word_count = FieldSchema(\n",
    "  name=\"word_count\",\n",
    "  dtype=DataType.INT64,\n",
    "  # The default value will be used if this field is left empty during data inserts or upserts.\n",
    "  # The data type of `default_value` must be the same as that specified in `dtype`.\n",
    "  default_value=9999\n",
    ")\n",
    "book_intro = FieldSchema(\n",
    "  name=\"book_intro\",\n",
    "  dtype=DataType.FLOAT_VECTOR,\n",
    "  dim=2\n",
    ")\n",
    "schema = CollectionSchema(\n",
    "  fields=[book_id, book_name, word_count, book_intro],\n",
    "  description=\"Test book search\",\n",
    "  enable_dynamic_field=True\n",
    ")\n",
    "collection_name = \"book\"\n",
    "\n"
   ]
  },
  {
   "cell_type": "code",
   "execution_count": 10,
   "metadata": {},
   "outputs": [],
   "source": [
    "from pymilvus import Collection\n",
    "collection = Collection(\n",
    "    name=collection_name,\n",
    "    schema=schema,\n",
    "    using='default',\n",
    "    shards_num=2\n",
    "    )"
   ]
  },
  {
   "cell_type": "markdown",
   "metadata": {},
   "source": [
    "### Insert Data into Milvus\n",
    "\n"
   ]
  },
  {
   "cell_type": "code",
   "execution_count": 11,
   "metadata": {},
   "outputs": [],
   "source": [
    "import random\n",
    "data = [\n",
    "  [i for i in range(2000)],\n",
    "  [str(i) for i in range(2000)],\n",
    "  [i for i in range(10000, 12000)],\n",
    "  [[random.random() for _ in range(2)] for _ in range(2000)],\n",
    "  # use `default_value` for a field\n",
    "  [], \n",
    "  # or\n",
    "  None,\n",
    "  # or just omit the field\n",
    "]\n",
    "\n",
    "data.append([str(\"dy\"*i) for i in range(2000)])\n"
   ]
  },
  {
   "cell_type": "code",
   "execution_count": 13,
   "metadata": {},
   "outputs": [],
   "source": [
    "from pymilvus import Collection\n",
    "collection = Collection(collection_name)      # Get an existing collection.\n",
    "mr = collection.insert(data[:4])  # Insert only the first 4 lists that match the schema fields.\n"
   ]
  },
  {
   "cell_type": "markdown",
   "metadata": {},
   "source": [
    "### Build an index on vectors\n"
   ]
  },
  {
   "cell_type": "code",
   "execution_count": 14,
   "metadata": {},
   "outputs": [],
   "source": [
    "index_params = {\n",
    "  \"metric_type\":\"L2\",\n",
    "  \"index_type\":\"IVF_FLAT\",\n",
    "  \"params\":{\"nlist\":1024}\n",
    "}\n"
   ]
  },
  {
   "cell_type": "code",
   "execution_count": 15,
   "metadata": {},
   "outputs": [
    {
     "data": {
      "text/plain": [
       "{'total_rows': 0, 'indexed_rows': 0, 'pending_index_rows': 0}"
      ]
     },
     "execution_count": 15,
     "metadata": {},
     "output_type": "execute_result"
    }
   ],
   "source": [
    "from pymilvus import Collection, utility\n",
    "collection = Collection(\"book\")      \n",
    "collection.create_index(\n",
    "  field_name=\"book_intro\", \n",
    "  index_params=index_params\n",
    ")\n",
    "\n",
    "utility.index_building_progress(\"book\")\n"
   ]
  },
  {
   "cell_type": "markdown",
   "metadata": {},
   "source": [
    "### Vector Similarity search\n"
   ]
  },
  {
   "cell_type": "code",
   "execution_count": 22,
   "metadata": {},
   "outputs": [],
   "source": [
    "collection.load()"
   ]
  },
  {
   "cell_type": "code",
   "execution_count": 17,
   "metadata": {},
   "outputs": [],
   "source": [
    "search_params = {\n",
    "    \"metric_type\": \"L2\", \n",
    "    \"offset\": 0, \n",
    "    \"ignore_growing\": False, \n",
    "    \"params\": {\"nprobe\": 10}\n",
    "}\n"
   ]
  },
  {
   "cell_type": "code",
   "execution_count": 18,
   "metadata": {},
   "outputs": [],
   "source": [
    "results = collection.search(\n",
    "    data=[[0.1, 0.2]], \n",
    "    anns_field=\"book_intro\", \n",
    "    # the sum of `offset` in `param` and `limit` \n",
    "    # should be less than 16384.\n",
    "    param=search_params,\n",
    "    limit=10,\n",
    "    expr=None,\n",
    "    # set the names of the fields you want to \n",
    "    # retrieve from the search result.\n",
    "    output_fields=['title'],\n",
    "    consistency_level=\"Strong\"\n",
    ")\n",
    "\n",
    "results[0].ids\n",
    "\n",
    "results[0].distances\n",
    "\n",
    "hit = results[0][0]\n",
    "hit.entity.get('title')\n"
   ]
  },
  {
   "cell_type": "code",
   "execution_count": 19,
   "metadata": {},
   "outputs": [
    {
     "data": {
      "text/plain": [
       "[0.00017925072461366653,\n",
       " 0.00042345491237938404,\n",
       " 0.0007979392539709806,\n",
       " 0.0010629157768562436,\n",
       " 0.0011057660449296236,\n",
       " 0.0014931642217561603,\n",
       " 0.0015233766753226519,\n",
       " 0.0015477623092010617,\n",
       " 0.0015534862177446485,\n",
       " 0.0017442794051021338]"
      ]
     },
     "execution_count": 19,
     "metadata": {},
     "output_type": "execute_result"
    }
   ],
   "source": [
    "results[0].ids\n",
    "results[0].distances\n"
   ]
  },
  {
   "cell_type": "markdown",
   "metadata": {},
   "source": [
    "### Query Vector"
   ]
  },
  {
   "cell_type": "code",
   "execution_count": 23,
   "metadata": {},
   "outputs": [],
   "source": [
    "res = collection.query(\n",
    "  expr = \"book_id in [2,4,6,8]\",\n",
    "  offset = 0,\n",
    "  limit = 10, \n",
    "  output_fields = [\"book_id\", \"book_intro\"],\n",
    ")\n"
   ]
  },
  {
   "cell_type": "code",
   "execution_count": 24,
   "metadata": {},
   "outputs": [
    {
     "data": {
      "text/plain": [
       "[{'book_intro': [0.9614506, 0.67399], 'book_id': 2},\n",
       " {'book_intro': [0.6594746, 0.74511784], 'book_id': 4},\n",
       " {'book_intro': [0.07552183, 0.86942947], 'book_id': 6},\n",
       " {'book_intro': [0.3202323, 0.042471204], 'book_id': 8}]"
      ]
     },
     "execution_count": 24,
     "metadata": {},
     "output_type": "execute_result"
    }
   ],
   "source": [
    "sorted_res = sorted(res, key=lambda k: k['book_id'])\n",
    "sorted_res\n"
   ]
  },
  {
   "cell_type": "code",
   "execution_count": null,
   "metadata": {},
   "outputs": [],
   "source": [
    "# Disconnect from Milvus server\n",
    "connections.disconnect(\"default\")"
   ]
  }
 ],
 "metadata": {
  "kernelspec": {
   "display_name": "Python 3",
   "language": "python",
   "name": "python3"
  },
  "language_info": {
   "codemirror_mode": {
    "name": "ipython",
    "version": 3
   },
   "file_extension": ".py",
   "mimetype": "text/x-python",
   "name": "python",
   "nbconvert_exporter": "python",
   "pygments_lexer": "ipython3",
   "version": "3.10.11"
  }
 },
 "nbformat": 4,
 "nbformat_minor": 2
}
